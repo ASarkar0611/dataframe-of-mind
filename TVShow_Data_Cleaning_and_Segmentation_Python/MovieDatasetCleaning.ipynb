{
 "cells": [
  {
   "cell_type": "markdown",
   "id": "2f460e90-f3a7-46b0-8bed-56904fe6a36f",
   "metadata": {},
   "source": [
    "# Import packages"
   ]
  },
  {
   "cell_type": "code",
   "execution_count": 1,
   "id": "124cb326-639a-4e71-882e-c0b0c3de6389",
   "metadata": {},
   "outputs": [],
   "source": [
    "import pandas as pd\n",
    "import numpy as np\n",
    "from textblob import TextBlob\n",
    "import nltk\n",
    "import re\n",
    "\n",
    "pd.set_option('display.max_colwidth', None)\n",
    "pd.reset_option('display.max_rows')\n",
    "pd.set_option('display.max_columns', 200)"
   ]
  },
  {
   "cell_type": "code",
   "execution_count": 2,
   "id": "1ee515e9-dc31-483b-a65a-f76a764d73eb",
   "metadata": {},
   "outputs": [],
   "source": [
    "#nltk.download('brown')"
   ]
  },
  {
   "cell_type": "markdown",
   "id": "464663a1-1537-4c0f-b4b0-227f4b728e69",
   "metadata": {},
   "source": [
    "# Read the CSV"
   ]
  },
  {
   "cell_type": "code",
   "execution_count": 3,
   "id": "63ae64fe-d1c0-45e5-810d-9d2e3bf70aa2",
   "metadata": {},
   "outputs": [
    {
     "data": {
      "text/html": [
       "<div>\n",
       "<style scoped>\n",
       "    .dataframe tbody tr th:only-of-type {\n",
       "        vertical-align: middle;\n",
       "    }\n",
       "\n",
       "    .dataframe tbody tr th {\n",
       "        vertical-align: top;\n",
       "    }\n",
       "\n",
       "    .dataframe thead th {\n",
       "        text-align: right;\n",
       "    }\n",
       "</style>\n",
       "<table border=\"1\" class=\"dataframe\">\n",
       "  <thead>\n",
       "    <tr style=\"text-align: right;\">\n",
       "      <th></th>\n",
       "      <th>MOVIES</th>\n",
       "      <th>YEAR</th>\n",
       "      <th>GENRE</th>\n",
       "      <th>RATING</th>\n",
       "      <th>ONE-LINE</th>\n",
       "      <th>STARS</th>\n",
       "      <th>VOTES</th>\n",
       "      <th>RunTime</th>\n",
       "      <th>Gross</th>\n",
       "    </tr>\n",
       "  </thead>\n",
       "  <tbody>\n",
       "    <tr>\n",
       "      <th>0</th>\n",
       "      <td>Blood Red Sky</td>\n",
       "      <td>(2021)</td>\n",
       "      <td>\\nAction, Horror, Thriller</td>\n",
       "      <td>6.1</td>\n",
       "      <td>\\nA woman with a mysterious illness is forced into action when a group of terrorists attempt to hijack a transatlantic overnight flight.</td>\n",
       "      <td>\\n    Director:\\nPeter Thorwarth\\n| \\n    Stars:\\nPeri Baumeister, \\nCarl Anton Koch, \\nAlexander Scheer, \\nKais Setti\\n</td>\n",
       "      <td>21,062</td>\n",
       "      <td>121.0</td>\n",
       "      <td>NaN</td>\n",
       "    </tr>\n",
       "    <tr>\n",
       "      <th>1</th>\n",
       "      <td>Masters of the Universe: Revelation</td>\n",
       "      <td>(2021– )</td>\n",
       "      <td>\\nAnimation, Action, Adventure</td>\n",
       "      <td>5.0</td>\n",
       "      <td>\\nThe war for Eternia begins again in what may be the final battle between He-Man and Skeletor. A new animated series from writer-director Kevin Smith.</td>\n",
       "      <td>\\n            \\n    Stars:\\nChris Wood, \\nSarah Michelle Gellar, \\nLena Headey, \\nMark Hamill\\n</td>\n",
       "      <td>17,870</td>\n",
       "      <td>25.0</td>\n",
       "      <td>NaN</td>\n",
       "    </tr>\n",
       "    <tr>\n",
       "      <th>2</th>\n",
       "      <td>The Walking Dead</td>\n",
       "      <td>(2010–2022)</td>\n",
       "      <td>\\nDrama, Horror, Thriller</td>\n",
       "      <td>8.2</td>\n",
       "      <td>\\nSheriff Deputy Rick Grimes wakes up from a coma to learn the world is in ruins and must lead a group of survivors to stay alive.</td>\n",
       "      <td>\\n            \\n    Stars:\\nAndrew Lincoln, \\nNorman Reedus, \\nMelissa McBride, \\nLauren Cohan\\n</td>\n",
       "      <td>885,805</td>\n",
       "      <td>44.0</td>\n",
       "      <td>NaN</td>\n",
       "    </tr>\n",
       "    <tr>\n",
       "      <th>3</th>\n",
       "      <td>Rick and Morty</td>\n",
       "      <td>(2013– )</td>\n",
       "      <td>\\nAnimation, Adventure, Comedy</td>\n",
       "      <td>9.2</td>\n",
       "      <td>\\nAn animated series that follows the exploits of a super scientist and his not-so-bright grandson.</td>\n",
       "      <td>\\n            \\n    Stars:\\nJustin Roiland, \\nChris Parnell, \\nSpencer Grammer, \\nSarah Chalke\\n</td>\n",
       "      <td>414,849</td>\n",
       "      <td>23.0</td>\n",
       "      <td>NaN</td>\n",
       "    </tr>\n",
       "    <tr>\n",
       "      <th>4</th>\n",
       "      <td>Army of Thieves</td>\n",
       "      <td>(2021)</td>\n",
       "      <td>\\nAction, Crime, Horror</td>\n",
       "      <td>NaN</td>\n",
       "      <td>\\nA prequel, set before the events of Army of the Dead, which focuses on German safecracker Ludwig Dieter leading a group of aspiring thieves on a top secret heist during the early stages of the zombie apocalypse.</td>\n",
       "      <td>\\n    Director:\\nMatthias Schweighöfer\\n| \\n    Stars:\\nMatthias Schweighöfer, \\nNathalie Emmanuel, \\nRuby O. Fee, \\nStuart Martin\\n</td>\n",
       "      <td>NaN</td>\n",
       "      <td>NaN</td>\n",
       "      <td>NaN</td>\n",
       "    </tr>\n",
       "  </tbody>\n",
       "</table>\n",
       "</div>"
      ],
      "text/plain": [
       "                                MOVIES         YEAR  \\\n",
       "0                        Blood Red Sky       (2021)   \n",
       "1  Masters of the Universe: Revelation     (2021– )   \n",
       "2                     The Walking Dead  (2010–2022)   \n",
       "3                       Rick and Morty     (2013– )   \n",
       "4                      Army of Thieves       (2021)   \n",
       "\n",
       "                                        GENRE  RATING  \\\n",
       "0      \\nAction, Horror, Thriller                 6.1   \n",
       "1  \\nAnimation, Action, Adventure                 5.0   \n",
       "2       \\nDrama, Horror, Thriller                 8.2   \n",
       "3  \\nAnimation, Adventure, Comedy                 9.2   \n",
       "4         \\nAction, Crime, Horror                 NaN   \n",
       "\n",
       "                                                                                                                                                                                                                ONE-LINE  \\\n",
       "0                                                                               \\nA woman with a mysterious illness is forced into action when a group of terrorists attempt to hijack a transatlantic overnight flight.   \n",
       "1                                                                \\nThe war for Eternia begins again in what may be the final battle between He-Man and Skeletor. A new animated series from writer-director Kevin Smith.   \n",
       "2                                                                                     \\nSheriff Deputy Rick Grimes wakes up from a coma to learn the world is in ruins and must lead a group of survivors to stay alive.   \n",
       "3                                                                                                                    \\nAn animated series that follows the exploits of a super scientist and his not-so-bright grandson.   \n",
       "4  \\nA prequel, set before the events of Army of the Dead, which focuses on German safecracker Ludwig Dieter leading a group of aspiring thieves on a top secret heist during the early stages of the zombie apocalypse.   \n",
       "\n",
       "                                                                                                                                  STARS  \\\n",
       "0              \\n    Director:\\nPeter Thorwarth\\n| \\n    Stars:\\nPeri Baumeister, \\nCarl Anton Koch, \\nAlexander Scheer, \\nKais Setti\\n   \n",
       "1                                       \\n            \\n    Stars:\\nChris Wood, \\nSarah Michelle Gellar, \\nLena Headey, \\nMark Hamill\\n   \n",
       "2                                      \\n            \\n    Stars:\\nAndrew Lincoln, \\nNorman Reedus, \\nMelissa McBride, \\nLauren Cohan\\n   \n",
       "3                                      \\n            \\n    Stars:\\nJustin Roiland, \\nChris Parnell, \\nSpencer Grammer, \\nSarah Chalke\\n   \n",
       "4  \\n    Director:\\nMatthias Schweighöfer\\n| \\n    Stars:\\nMatthias Schweighöfer, \\nNathalie Emmanuel, \\nRuby O. Fee, \\nStuart Martin\\n   \n",
       "\n",
       "     VOTES  RunTime Gross  \n",
       "0   21,062    121.0   NaN  \n",
       "1   17,870     25.0   NaN  \n",
       "2  885,805     44.0   NaN  \n",
       "3  414,849     23.0   NaN  \n",
       "4      NaN      NaN   NaN  "
      ]
     },
     "execution_count": 3,
     "metadata": {},
     "output_type": "execute_result"
    }
   ],
   "source": [
    "movies_df = pd.read_csv(\"movies.csv\")\n",
    "movies_df.head()"
   ]
  },
  {
   "cell_type": "markdown",
   "id": "de0fed48-1042-4d55-b6b5-55d2e4ec2a05",
   "metadata": {},
   "source": [
    "# Column Datatypes"
   ]
  },
  {
   "cell_type": "code",
   "execution_count": 4,
   "id": "b476b05c-9037-4e5c-a3ac-10ab2e5f5ae1",
   "metadata": {},
   "outputs": [
    {
     "data": {
      "text/plain": [
       "MOVIES       object\n",
       "YEAR         object\n",
       "GENRE        object\n",
       "RATING      float64\n",
       "ONE-LINE     object\n",
       "STARS        object\n",
       "VOTES        object\n",
       "RunTime     float64\n",
       "Gross        object\n",
       "dtype: object"
      ]
     },
     "execution_count": 4,
     "metadata": {},
     "output_type": "execute_result"
    }
   ],
   "source": [
    "#datatypes\n",
    "movies_df.dtypes"
   ]
  },
  {
   "cell_type": "markdown",
   "id": "6513d4ed-5b27-41bc-b0dc-e58a49c0f35f",
   "metadata": {},
   "source": [
    "# Rows and Columns of the dataframe"
   ]
  },
  {
   "cell_type": "code",
   "execution_count": 5,
   "id": "475a4aa6-20d0-4b57-9add-b69fdd6f4cee",
   "metadata": {},
   "outputs": [
    {
     "data": {
      "text/plain": [
       "(9999, 9)"
      ]
     },
     "execution_count": 5,
     "metadata": {},
     "output_type": "execute_result"
    }
   ],
   "source": [
    "# Rows and columns of the dataframe\n",
    "movies_df.shape"
   ]
  },
  {
   "cell_type": "markdown",
   "id": "4e5f562f-50f7-4240-8100-a5b252503547",
   "metadata": {},
   "source": [
    "# Column Names"
   ]
  },
  {
   "cell_type": "code",
   "execution_count": 6,
   "id": "a994fe0a-c081-40d1-bf07-3aefea72cbd8",
   "metadata": {},
   "outputs": [
    {
     "data": {
      "text/plain": [
       "['MOVIES',\n",
       " 'YEAR',\n",
       " 'GENRE',\n",
       " 'RATING',\n",
       " 'ONE-LINE',\n",
       " 'STARS',\n",
       " 'VOTES',\n",
       " 'RunTime',\n",
       " 'Gross']"
      ]
     },
     "execution_count": 6,
     "metadata": {},
     "output_type": "execute_result"
    }
   ],
   "source": [
    "#Rename column names\n",
    "df_columns = movies_df.columns.tolist()\n",
    "df_columns"
   ]
  },
  {
   "cell_type": "markdown",
   "id": "3104e016-a21a-4ccb-a24c-68ff067b123f",
   "metadata": {},
   "source": [
    "__Column names were updated.__"
   ]
  },
  {
   "cell_type": "code",
   "execution_count": 7,
   "id": "41f4b594-8e09-4eae-9673-f7948ca93659",
   "metadata": {},
   "outputs": [],
   "source": [
    "for c in df_columns:\n",
    "    movies_df = movies_df.rename(columns=({c: movies_df[c].name.title()}))\n",
    "\n",
    "movies_df = movies_df.rename(columns=({'Gross': 'Gross (in million $)'}))"
   ]
  },
  {
   "cell_type": "code",
   "execution_count": 8,
   "id": "e680726c-0475-4399-8732-1827ccba0743",
   "metadata": {},
   "outputs": [],
   "source": [
    "#movies_df"
   ]
  },
  {
   "cell_type": "markdown",
   "id": "d2fffb97-770d-4cf7-80c5-5ff8bb125ba5",
   "metadata": {},
   "source": [
    "# Drop the duplicate rows\n",
    "__Shows rows and columns after the removal of duplicate rows.__"
   ]
  },
  {
   "cell_type": "code",
   "execution_count": 9,
   "id": "f653fe37-be85-4b4e-852f-d636d0f5319e",
   "metadata": {},
   "outputs": [
    {
     "data": {
      "text/plain": [
       "(9568, 9)"
      ]
     },
     "execution_count": 9,
     "metadata": {},
     "output_type": "execute_result"
    }
   ],
   "source": [
    "#Drop duplicates\n",
    "movies_df = movies_df.drop_duplicates()\n",
    "movies_df.shape"
   ]
  },
  {
   "cell_type": "code",
   "execution_count": 10,
   "id": "2354e14d-5147-42ef-a031-44504e3e1926",
   "metadata": {},
   "outputs": [],
   "source": [
    "#movies_df"
   ]
  },
  {
   "cell_type": "markdown",
   "id": "b35c3e97-d668-4ae2-aeef-9ed98dccc05d",
   "metadata": {
    "tags": []
   },
   "source": [
    "# Format the columns\n",
    "\n",
    "__Following functions are applied to completely format the abnormal column values:__                                                            \n",
    "__1. strip()__ - to remove any unwanted characters such as alphabates or whitespaces                                                                          \n",
    "__2. fillna()__ - fill NULL values with intended values                                                                \n",
    "__3. replace()__ - replace unwanted characters with intended values                                                                    \n",
    "__4. astype()__ - to convert the datatypes of the columns                                                       \n",
    "__5. iteritems()__ - to loop through the records of the dataframe"
   ]
  },
  {
   "cell_type": "markdown",
   "id": "7d950b0d-e3a8-44b7-b837-e4899b279dbf",
   "metadata": {},
   "source": [
    "## Movies"
   ]
  },
  {
   "cell_type": "code",
   "execution_count": 11,
   "id": "3515118a-d14b-4af5-81f8-004ac6e1a79d",
   "metadata": {},
   "outputs": [],
   "source": [
    "movies_df['Movies'] = movies_df['Movies'].str.strip()"
   ]
  },
  {
   "cell_type": "markdown",
   "id": "1eb20768-6fea-47ca-8858-5eb80149ebc7",
   "metadata": {},
   "source": [
    "## Votes"
   ]
  },
  {
   "cell_type": "code",
   "execution_count": 12,
   "id": "e501aac8-50bd-4c0e-b8f0-7c53d05f66af",
   "metadata": {},
   "outputs": [],
   "source": [
    "#Votes\n",
    "movies_df['Votes'] = movies_df['Votes'].fillna('0')\n",
    "movies_df['Votes'] = movies_df['Votes'].str.replace(',', '')\n",
    "movies_df['Votes'] = movies_df['Votes'].astype(int) "
   ]
  },
  {
   "cell_type": "markdown",
   "id": "126ec536-61c3-41a6-a777-9e27143c16d7",
   "metadata": {},
   "source": [
    "## Rating"
   ]
  },
  {
   "cell_type": "code",
   "execution_count": 13,
   "id": "2e6e1215-4f0a-457f-9e1d-e8c49f7581d7",
   "metadata": {},
   "outputs": [],
   "source": [
    "#Rating\n",
    "movies_df['Rating'] = movies_df['Rating'].fillna(0.0)"
   ]
  },
  {
   "cell_type": "markdown",
   "id": "b475c198-2450-4703-94cc-279ceb7131ac",
   "metadata": {},
   "source": [
    "## Gross"
   ]
  },
  {
   "cell_type": "code",
   "execution_count": 14,
   "id": "bb367605-d3dd-4fbb-b930-2999391796b2",
   "metadata": {},
   "outputs": [
    {
     "name": "stderr",
     "output_type": "stream",
     "text": [
      "C:\\Users\\Arunita\\AppData\\Local\\Temp\\ipykernel_99408\\3438496150.py:2: FutureWarning: The default value of regex will change from True to False in a future version. In addition, single character regular expressions will *not* be treated as literal strings when regex=True.\n",
      "  movies_df['Gross (in million $)'] = movies_df['Gross (in million $)'].str.replace('M', '').str.replace('$', '')\n"
     ]
    }
   ],
   "source": [
    "#Gross\n",
    "movies_df['Gross (in million $)'] = movies_df['Gross (in million $)'].str.replace('M', '').str.replace('$', '')\n",
    "movies_df['Gross (in million $)'] = movies_df['Gross (in million $)'].astype(float)\n",
    "movies_df['Gross (in million $)'] = movies_df['Gross (in million $)'].fillna(0.0)"
   ]
  },
  {
   "cell_type": "markdown",
   "id": "8f64dd6c-aeed-4269-926a-2c89960e8d21",
   "metadata": {},
   "source": [
    "## Runtime"
   ]
  },
  {
   "cell_type": "code",
   "execution_count": 15,
   "id": "4333d8e1-0cb0-46ad-8929-bb52a025b372",
   "metadata": {},
   "outputs": [],
   "source": [
    "#Runtime\n",
    "movies_df['Runtime'] = movies_df['Runtime'].fillna(0.0)"
   ]
  },
  {
   "cell_type": "markdown",
   "id": "dc4ef63c-331b-4ac2-a37d-165f43ae48b6",
   "metadata": {},
   "source": [
    "## Year"
   ]
  },
  {
   "cell_type": "code",
   "execution_count": 16,
   "id": "6c1944ba-fc43-4469-804e-5554e5fc91fb",
   "metadata": {},
   "outputs": [
    {
     "name": "stderr",
     "output_type": "stream",
     "text": [
      "C:\\Users\\Arunita\\AppData\\Local\\Temp\\ipykernel_99408\\1038794631.py:2: FutureWarning: The default value of regex will change from True to False in a future version. In addition, single character regular expressions will *not* be treated as literal strings when regex=True.\n",
      "  movies_df[\"Year\"] = movies_df[\"Year\"].str.replace('(', '')\n",
      "C:\\Users\\Arunita\\AppData\\Local\\Temp\\ipykernel_99408\\1038794631.py:3: FutureWarning: The default value of regex will change from True to False in a future version. In addition, single character regular expressions will *not* be treated as literal strings when regex=True.\n",
      "  movies_df[\"Year\"] = movies_df[\"Year\"].str.replace(')', '')\n"
     ]
    }
   ],
   "source": [
    "#Split year into start year and End year\n",
    "movies_df[\"Year\"] = movies_df[\"Year\"].str.replace('(', '')\n",
    "movies_df[\"Year\"] = movies_df[\"Year\"].str.replace(')', '')"
   ]
  },
  {
   "cell_type": "code",
   "execution_count": 17,
   "id": "1e177b36-7583-4f3f-859e-5e8fabe0d061",
   "metadata": {},
   "outputs": [],
   "source": [
    "#movies_df"
   ]
  },
  {
   "cell_type": "code",
   "execution_count": 18,
   "id": "6af61dec-245b-4bc2-a454-e33f1853b14f",
   "metadata": {},
   "outputs": [
    {
     "name": "stderr",
     "output_type": "stream",
     "text": [
      "C:\\Users\\Arunita\\AppData\\Local\\Temp\\ipykernel_99408\\2145209720.py:2: FutureWarning: In a future version of pandas all arguments of StringMethods.split except for the argument 'pat' will be keyword-only.\n",
      "  movies_df[[\"Mix\", \"End_Year\"]] = movies_df['Year'].str.split('–', 1, expand=True)\n"
     ]
    }
   ],
   "source": [
    "movies_df['Year'] = movies_df['Year'].str.strip()\n",
    "movies_df[[\"Mix\", \"End_Year\"]] = movies_df['Year'].str.split('–', 1, expand=True)\n",
    "#movies_df"
   ]
  },
  {
   "cell_type": "code",
   "execution_count": 19,
   "id": "0ab4b13d-4c9a-4c50-b63e-b86dc65bccf7",
   "metadata": {},
   "outputs": [],
   "source": [
    "# Split the Start_Year column \n",
    "movies_df['Start_Year'] = movies_df['Mix'].astype(str).apply(lambda x: ''.join(re.findall(r'\\d{4}', x)))\n",
    "movies_df['Season'] = movies_df['Mix'].astype(str).apply(lambda x: ''.join(re.findall(r'\\b[I|V|X|L|C|D|M]+\\b', x)))\n",
    "movies_df['Type'] = movies_df['Mix'].astype(str).apply(lambda x: ''.join(re.sub(r'(\\d{4}|\\b[I|V|X|L|C|D|M]+\\b)', '', x)))"
   ]
  },
  {
   "cell_type": "code",
   "execution_count": 20,
   "id": "215aaa68-4e7b-4dbe-b924-b7124ab596d3",
   "metadata": {},
   "outputs": [],
   "source": [
    "#movies_df"
   ]
  },
  {
   "cell_type": "markdown",
   "id": "29bf3a0e-2999-4e52-85bf-54c7935994e6",
   "metadata": {},
   "source": [
    "## Genre"
   ]
  },
  {
   "cell_type": "code",
   "execution_count": 21,
   "id": "ff03476c-60f8-47fc-93ab-42955ab209fd",
   "metadata": {},
   "outputs": [
    {
     "name": "stderr",
     "output_type": "stream",
     "text": [
      "C:\\Users\\Arunita\\AppData\\Local\\Temp\\ipykernel_99408\\3369542858.py:2: FutureWarning: In a future version of pandas all arguments of StringMethods.split except for the argument 'pat' will be keyword-only.\n",
      "  movies_df[['Genre1', 'Genre2', 'Genre3']] = movies_df['Genre'].str.split(',',2,expand=True)\n"
     ]
    }
   ],
   "source": [
    "movies_df['Genre'] = movies_df['Genre'].str.strip('\\n')\n",
    "movies_df[['Genre1', 'Genre2', 'Genre3']] = movies_df['Genre'].str.split(',',2,expand=True)\n",
    "#movies_df"
   ]
  },
  {
   "cell_type": "markdown",
   "id": "77bceaa9-1dbc-4a1b-89a1-64c6e8862861",
   "metadata": {},
   "source": [
    "## Stars"
   ]
  },
  {
   "cell_type": "code",
   "execution_count": 22,
   "id": "b21cd2cf-d2b5-45ac-aae3-aad7d8bf338e",
   "metadata": {},
   "outputs": [
    {
     "name": "stderr",
     "output_type": "stream",
     "text": [
      "C:\\Users\\Arunita\\AppData\\Local\\Temp\\ipykernel_99408\\2988554872.py:4: FutureWarning: In a future version of pandas all arguments of StringMethods.split except for the argument 'pat' will be keyword-only.\n",
      "  movies_df[['Director', 'Actor']] = movies_df['Stars'].str.split('|', 1, expand=True)\n"
     ]
    }
   ],
   "source": [
    "#Split and clean the Stars column from the dataframe\n",
    "movies_df['Stars'] = movies_df['Stars'].str.strip('\\n')\n",
    "stars = pd.DataFrame()\n",
    "movies_df[['Director', 'Actor']] = movies_df['Stars'].str.split('|', 1, expand=True)\n",
    "#movies_df"
   ]
  },
  {
   "cell_type": "code",
   "execution_count": 23,
   "id": "aa7d260f-d0ea-44f0-af69-27be88a36205",
   "metadata": {},
   "outputs": [
    {
     "name": "stderr",
     "output_type": "stream",
     "text": [
      "C:\\Users\\Arunita\\AppData\\Local\\Temp\\ipykernel_99408\\3820309590.py:1: FutureWarning: iteritems is deprecated and will be removed in a future version. Use .items instead.\n",
      "  for idx, value in movies_df['Director'].iteritems():\n",
      "C:\\Users\\Arunita\\AppData\\Local\\Temp\\ipykernel_99408\\3820309590.py:4: SettingWithCopyWarning: \n",
      "A value is trying to be set on a copy of a slice from a DataFrame\n",
      "\n",
      "See the caveats in the documentation: https://pandas.pydata.org/pandas-docs/stable/user_guide/indexing.html#returning-a-view-versus-a-copy\n",
      "  movies_df['Actor'][idx], movies_df['Director'][idx] = value, ''\n"
     ]
    }
   ],
   "source": [
    "for idx, value in movies_df['Director'].iteritems():\n",
    "    #if idx < 10: print(idx, value)\n",
    "    if 'Stars:' in value:\n",
    "        movies_df['Actor'][idx], movies_df['Director'][idx] = value, ''"
   ]
  },
  {
   "cell_type": "code",
   "execution_count": 24,
   "id": "4731fc9d-9312-4f11-8bef-063a5c2fe8cd",
   "metadata": {},
   "outputs": [],
   "source": [
    "#movies_df"
   ]
  },
  {
   "cell_type": "code",
   "execution_count": 25,
   "id": "3edf23af-cf6e-44ca-af9f-3b9d79e489ff",
   "metadata": {},
   "outputs": [],
   "source": [
    "movies_df['Director'] = movies_df['Director'].str.replace('Director:', '')\n",
    "movies_df['Director'] = movies_df['Director'].str.replace('Directors:', '')\n",
    "movies_df['Actor'] = movies_df['Actor'].str.replace('Stars:', '')\n",
    "movies_df['Actor'] = movies_df['Actor'].str.replace('Star:', '')\n",
    "#movies_df"
   ]
  },
  {
   "cell_type": "code",
   "execution_count": 26,
   "id": "1e4f3fd1-50f9-4b61-b562-52cdeae386d0",
   "metadata": {},
   "outputs": [],
   "source": [
    "movies_df['Director'] = movies_df['Director'].str.strip()\n",
    "movies_df['Actor'] = movies_df['Actor'].str.strip()\n",
    "movies_df['Actor'] = movies_df['Actor'].str.replace('\\n', '')"
   ]
  },
  {
   "cell_type": "code",
   "execution_count": 27,
   "id": "8d1e1790-7f9d-437c-ae22-85bfe78946e6",
   "metadata": {},
   "outputs": [],
   "source": [
    "#movies_df"
   ]
  },
  {
   "cell_type": "code",
   "execution_count": 28,
   "id": "b508e3bc-77d7-4583-9832-fe5d689e973a",
   "metadata": {},
   "outputs": [
    {
     "name": "stderr",
     "output_type": "stream",
     "text": [
      "C:\\Users\\Arunita\\AppData\\Local\\Temp\\ipykernel_99408\\3021022407.py:2: FutureWarning: In a future version of pandas all arguments of StringMethods.split except for the argument 'pat' will be keyword-only.\n",
      "  movies_df[['Actor1', 'Actor2', 'Actor3', 'Actor4']] = movies_df['Actor'].str.split(',', 4, expand=True)\n",
      "C:\\Users\\Arunita\\AppData\\Local\\Temp\\ipykernel_99408\\3021022407.py:4: FutureWarning: In a future version of pandas all arguments of StringMethods.split except for the argument 'pat' will be keyword-only.\n",
      "  movies_df[['Director1', 'Director2', 'Director3', 'Director4', 'DirectorN']] = movies_df['Director'].str.split(',', 4, expand=True)\n"
     ]
    }
   ],
   "source": [
    "# The concept of cleaning these kind of columns is significant here\n",
    "movies_df[['Actor1', 'Actor2', 'Actor3', 'Actor4']] = movies_df['Actor'].str.split(',', 4, expand=True)\n",
    "#First 4 directors are considered\n",
    "movies_df[['Director1', 'Director2', 'Director3', 'Director4', 'DirectorN']] = movies_df['Director'].str.split(',', 4, expand=True)\n",
    "#movies_df"
   ]
  },
  {
   "cell_type": "markdown",
   "id": "ea0c5634-001c-4c6b-80e9-67da243eed40",
   "metadata": {},
   "source": [
    "### Director"
   ]
  },
  {
   "cell_type": "code",
   "execution_count": 29,
   "id": "7c0728da-e23a-4d10-a8bc-0970f8ab6105",
   "metadata": {},
   "outputs": [
    {
     "name": "stderr",
     "output_type": "stream",
     "text": [
      "C:\\Users\\Arunita\\AppData\\Local\\Temp\\ipykernel_99408\\2886575759.py:2: FutureWarning: iteritems is deprecated and will be removed in a future version. Use .items instead.\n",
      "  for idx, val in movies_df['Director1'].iteritems():\n",
      "C:\\Users\\Arunita\\AppData\\Local\\Temp\\ipykernel_99408\\2886575759.py:3: SettingWithCopyWarning: \n",
      "A value is trying to be set on a copy of a slice from a DataFrame\n",
      "\n",
      "See the caveats in the documentation: https://pandas.pydata.org/pandas-docs/stable/user_guide/indexing.html#returning-a-view-versus-a-copy\n",
      "  if val == '': movies_df['Director1'][idx] = 'Unknown'\n"
     ]
    }
   ],
   "source": [
    "#Director\n",
    "for idx, val in movies_df['Director1'].iteritems():\n",
    "    if val == '': movies_df['Director1'][idx] = 'Unknown'\n",
    "# for idx, val in movies_df['Director2'].iteritems():\n",
    "#     if val == '': movies_df['Director2'][idx] = 'None'\n",
    "# for idx, val in movies_df['Director3'].iteritems():\n",
    "#     if val == '': movies_df['Director3'][idx] = 'None'\n",
    "# for idx, val in movies_df['Director4'].iteritems():\n",
    "#     if val == '': movies_df['Director4'][idx] = 'None'\n",
    "\n",
    "movies_df['Director1'] = movies_df['Director1'].fillna('Unknown')\n",
    "# movies_df['Director2'] = movies_df['Director2'].fillna('None')\n",
    "# movies_df['Director3'] = movies_df['Director3'].fillna('None')\n",
    "# movies_df['Director4'] = movies_df['Director4'].fillna('None')"
   ]
  },
  {
   "cell_type": "markdown",
   "id": "f5b67fe8-274f-4af2-975f-f2e8e6a6ac16",
   "metadata": {},
   "source": [
    "### Actor"
   ]
  },
  {
   "cell_type": "code",
   "execution_count": 30,
   "id": "cd5b2ac0-c52b-4899-8d93-24d6d96e666e",
   "metadata": {},
   "outputs": [
    {
     "name": "stderr",
     "output_type": "stream",
     "text": [
      "C:\\Users\\Arunita\\AppData\\Local\\Temp\\ipykernel_99408\\2786435657.py:2: FutureWarning: iteritems is deprecated and will be removed in a future version. Use .items instead.\n",
      "  for idx, val in movies_df['Actor1'].iteritems():\n"
     ]
    }
   ],
   "source": [
    "#Actor\n",
    "for idx, val in movies_df['Actor1'].iteritems():\n",
    "    if val == '': movies_df['Actor1'][idx] = 'Unknown'\n",
    "# for idx, val in movies_df['Actor2'].iteritems():\n",
    "#     if val == '': movies_df['Actor2'][idx] = 'None'\n",
    "# for idx, val in movies_df['Actor3'].iteritems():\n",
    "#     if val == '': movies_df['Actor3'][idx] = 'None'\n",
    "# for idx, val in movies_df['Actor4'].iteritems():\n",
    "#     if val == '': movies_df['Actor4'][idx] = 'None'\n",
    "\n",
    "movies_df['Actor1'] = movies_df['Actor1'].fillna('Unknown')\n",
    "# movies_df['Actor2'] = movies_df['Actor2'].fillna('None')\n",
    "# movies_df['Actor3'] = movies_df['Actor3'].fillna('None')\n",
    "# movies_df['Actor4'] = movies_df['Actor4'].fillna('None')"
   ]
  },
  {
   "cell_type": "markdown",
   "id": "10ecbdb4-f2be-414d-867a-47ef989385d0",
   "metadata": {},
   "source": [
    "## Start Year and End Year\n",
    "__The below code is commented as I do not intend to update the NULL values with any value. The value can be determined based on the end goal.__"
   ]
  },
  {
   "cell_type": "code",
   "execution_count": 31,
   "id": "972bbaae-7fc0-442c-9786-db38b52ed9a7",
   "metadata": {},
   "outputs": [],
   "source": [
    "#Start Year and End Year\n",
    "# movies_df['Start_Year'] = movies_df['Start_Year'].str.strip().fillna('Unknown')\n",
    "# movies_df['End_Year'] = movies_df['End_Year'].str.strip().fillna('Unknown')"
   ]
  },
  {
   "cell_type": "markdown",
   "id": "3fa88b61-d1c8-4009-8145-1ed6fabf07c5",
   "metadata": {},
   "source": [
    "## One-line"
   ]
  },
  {
   "cell_type": "code",
   "execution_count": 32,
   "id": "407b53bb-8415-4adf-8aec-75c289003d96",
   "metadata": {},
   "outputs": [
    {
     "name": "stderr",
     "output_type": "stream",
     "text": [
      "C:\\Users\\Arunita\\AppData\\Local\\Temp\\ipykernel_99408\\1749738586.py:6: FutureWarning: iteritems is deprecated and will be removed in a future version. Use .items instead.\n",
      "  for idx, val in movies_df['One-Line-Summary'].iteritems():\n",
      "C:\\Users\\Arunita\\AppData\\Local\\Temp\\ipykernel_99408\\1749738586.py:14: SettingWithCopyWarning: \n",
      "A value is trying to be set on a copy of a slice from a DataFrame\n",
      "\n",
      "See the caveats in the documentation: https://pandas.pydata.org/pandas-docs/stable/user_guide/indexing.html#returning-a-view-versus-a-copy\n",
      "  if new_text: movies_df['One-Line-Summary'][idx] = new_text\n",
      "C:\\Users\\Arunita\\AppData\\Local\\Temp\\ipykernel_99408\\1749738586.py:15: SettingWithCopyWarning: \n",
      "A value is trying to be set on a copy of a slice from a DataFrame\n",
      "\n",
      "See the caveats in the documentation: https://pandas.pydata.org/pandas-docs/stable/user_guide/indexing.html#returning-a-view-versus-a-copy\n",
      "  else: movies_df['One-Line-Summary'][idx] = 'Unknown'\n"
     ]
    },
    {
     "name": "stdout",
     "output_type": "stream",
     "text": [
      "101 An aging actor, who long ago enjoyed a brush with fame, makes his living as an acting coach.\n"
     ]
    },
    {
     "name": "stderr",
     "output_type": "stream",
     "text": [
      "C:\\Users\\Arunita\\AppData\\Local\\Temp\\ipykernel_99408\\1749738586.py:8: SettingWithCopyWarning: \n",
      "A value is trying to be set on a copy of a slice from a DataFrame\n",
      "\n",
      "See the caveats in the documentation: https://pandas.pydata.org/pandas-docs/stable/user_guide/indexing.html#returning-a-view-versus-a-copy\n",
      "  movies_df['One-Line-Summary'][idx] = 'Unknown'\n"
     ]
    },
    {
     "name": "stdout",
     "output_type": "stream",
     "text": [
      "6658 Norman and Madelyn get closer as they spend time together in Santa Barbara. When Sandy meets Mindy's boyfriend, he discovers they have a lot in common.\n",
      "6659 Mindy's not thrilled with her dad and boyfriend's growing friendship. Norman's daughter leaves rehab, returning home while Madelyn is visiting.\n",
      "6660 Interactions with two women have Sandy contemplating his changing libido. Norman tries to reconcile with both Phoebe and Madelyn.\n",
      "6665 Sandy urges Norman to make a grand gesture for Madelyn. After Martin experiences a medical episode, Sandy decides to have a complete checkup.\n",
      "6666 Despite Norman's prodding, Sandy remains reluctant to share some important news with Mindy. Norman and Madelyn come to an understanding.\n",
      "6667 An accident forces Sandy to come clean with Mindy. After visiting Eileen's grave, Phoebe tries to make amends with Norman, but it doesn't go well.\n",
      "6668 As Norman contemplates retiring, an unexpected visitor has him considering his spiritual life. Sandy dislikes changes Mindy is making at the studio.\n"
     ]
    }
   ],
   "source": [
    "movies_df['One-Line'] = movies_df['One-Line'].str.strip('\\n')\n",
    "movies_df['One-Line-Summary'] = movies_df['One-Line'].str.strip()\n",
    "movies_df['One-Line-Summary'] = movies_df['One-Line-Summary'].str.strip('See full summary »')\n",
    "movies_df['One-Line-Summary'] = movies_df['One-Line'].str.strip()\n",
    "#Add a Plot\n",
    "for idx, val in movies_df['One-Line-Summary'].iteritems():\n",
    "    if val == 'Add a Plot' or '':\n",
    "        movies_df['One-Line-Summary'][idx] = 'Unknown'\n",
    "    else:\n",
    "        blob = TextBlob(val)\n",
    "        if movies_df['Movies'][idx] == 'The Kominsky Method': print(idx, blob)\n",
    "        new_text = ', '.join(blob.noun_phrases)\n",
    "        #if movies_df['Movies'][idx] == 'The Kominsky Method': print(idx, type(new_text))\n",
    "        if new_text: movies_df['One-Line-Summary'][idx] = new_text\n",
    "        else: movies_df['One-Line-Summary'][idx] = 'Unknown'\n",
    "        \n",
    "movies_df['One-Line-Summary'] = movies_df['One-Line-Summary'].fillna('Unknown')"
   ]
  },
  {
   "cell_type": "markdown",
   "id": "c8d4fcc9-e6b0-4483-a7db-ab083cdc1d6d",
   "metadata": {},
   "source": [
    "# Rechecking the columns"
   ]
  },
  {
   "cell_type": "code",
   "execution_count": 33,
   "id": "be1c4d30-7f75-41b4-a524-42f6e0cebc64",
   "metadata": {},
   "outputs": [
    {
     "data": {
      "text/plain": [
       "Index(['Movies', 'Year', 'Genre', 'Rating', 'One-Line', 'Stars', 'Votes',\n",
       "       'Runtime', 'Gross (in million $)', 'Mix', 'End_Year', 'Start_Year',\n",
       "       'Season', 'Type', 'Genre1', 'Genre2', 'Genre3', 'Director', 'Actor',\n",
       "       'Actor1', 'Actor2', 'Actor3', 'Actor4', 'Director1', 'Director2',\n",
       "       'Director3', 'Director4', 'DirectorN', 'One-Line-Summary'],\n",
       "      dtype='object')"
      ]
     },
     "execution_count": 33,
     "metadata": {},
     "output_type": "execute_result"
    }
   ],
   "source": [
    "movies_df.columns"
   ]
  },
  {
   "cell_type": "markdown",
   "id": "1e0db39b-7f5f-4beb-8055-6dbf0694914c",
   "metadata": {},
   "source": [
    "# Drop unwanted columns"
   ]
  },
  {
   "cell_type": "code",
   "execution_count": 34,
   "id": "a2f61c0e-67a6-44c4-a450-b08485c61b69",
   "metadata": {},
   "outputs": [
    {
     "data": {
      "text/html": [
       "<div>\n",
       "<style scoped>\n",
       "    .dataframe tbody tr th:only-of-type {\n",
       "        vertical-align: middle;\n",
       "    }\n",
       "\n",
       "    .dataframe tbody tr th {\n",
       "        vertical-align: top;\n",
       "    }\n",
       "\n",
       "    .dataframe thead th {\n",
       "        text-align: right;\n",
       "    }\n",
       "</style>\n",
       "<table border=\"1\" class=\"dataframe\">\n",
       "  <thead>\n",
       "    <tr style=\"text-align: right;\">\n",
       "      <th></th>\n",
       "      <th>Movies</th>\n",
       "      <th>Rating</th>\n",
       "      <th>Votes</th>\n",
       "      <th>Runtime</th>\n",
       "      <th>Gross (in million $)</th>\n",
       "      <th>End_Year</th>\n",
       "      <th>Start_Year</th>\n",
       "      <th>Season</th>\n",
       "      <th>Type</th>\n",
       "      <th>Genre1</th>\n",
       "      <th>Genre2</th>\n",
       "      <th>Genre3</th>\n",
       "      <th>Actor1</th>\n",
       "      <th>Actor2</th>\n",
       "      <th>Actor3</th>\n",
       "      <th>Actor4</th>\n",
       "      <th>Director1</th>\n",
       "      <th>Director2</th>\n",
       "      <th>Director3</th>\n",
       "      <th>Director4</th>\n",
       "      <th>One-Line-Summary</th>\n",
       "    </tr>\n",
       "  </thead>\n",
       "  <tbody>\n",
       "    <tr>\n",
       "      <th>0</th>\n",
       "      <td>Blood Red Sky</td>\n",
       "      <td>6.1</td>\n",
       "      <td>21062</td>\n",
       "      <td>121.0</td>\n",
       "      <td>0.0</td>\n",
       "      <td>None</td>\n",
       "      <td>2021</td>\n",
       "      <td></td>\n",
       "      <td></td>\n",
       "      <td>Action</td>\n",
       "      <td>Horror</td>\n",
       "      <td>Thriller</td>\n",
       "      <td>Peri Baumeister</td>\n",
       "      <td>Carl Anton Koch</td>\n",
       "      <td>Alexander Scheer</td>\n",
       "      <td>Kais Setti</td>\n",
       "      <td>Peter Thorwarth</td>\n",
       "      <td>None</td>\n",
       "      <td>None</td>\n",
       "      <td>None</td>\n",
       "      <td>mysterious illness, terrorists attempt</td>\n",
       "    </tr>\n",
       "    <tr>\n",
       "      <th>1</th>\n",
       "      <td>Masters of the Universe: Revelation</td>\n",
       "      <td>5.0</td>\n",
       "      <td>17870</td>\n",
       "      <td>25.0</td>\n",
       "      <td>0.0</td>\n",
       "      <td></td>\n",
       "      <td>2021</td>\n",
       "      <td></td>\n",
       "      <td></td>\n",
       "      <td>Animation</td>\n",
       "      <td>Action</td>\n",
       "      <td>Adventure</td>\n",
       "      <td>Chris Wood</td>\n",
       "      <td>Sarah Michelle Gellar</td>\n",
       "      <td>Lena Headey</td>\n",
       "      <td>Mark Hamill</td>\n",
       "      <td>Unknown</td>\n",
       "      <td>None</td>\n",
       "      <td>None</td>\n",
       "      <td>None</td>\n",
       "      <td>eternia, final battle, he-man, skeletor, kevin smith</td>\n",
       "    </tr>\n",
       "    <tr>\n",
       "      <th>2</th>\n",
       "      <td>The Walking Dead</td>\n",
       "      <td>8.2</td>\n",
       "      <td>885805</td>\n",
       "      <td>44.0</td>\n",
       "      <td>0.0</td>\n",
       "      <td>2022</td>\n",
       "      <td>2010</td>\n",
       "      <td></td>\n",
       "      <td></td>\n",
       "      <td>Drama</td>\n",
       "      <td>Horror</td>\n",
       "      <td>Thriller</td>\n",
       "      <td>Andrew Lincoln</td>\n",
       "      <td>Norman Reedus</td>\n",
       "      <td>Melissa McBride</td>\n",
       "      <td>Lauren Cohan</td>\n",
       "      <td>Unknown</td>\n",
       "      <td>None</td>\n",
       "      <td>None</td>\n",
       "      <td>None</td>\n",
       "      <td>rick grimes</td>\n",
       "    </tr>\n",
       "    <tr>\n",
       "      <th>3</th>\n",
       "      <td>Rick and Morty</td>\n",
       "      <td>9.2</td>\n",
       "      <td>414849</td>\n",
       "      <td>23.0</td>\n",
       "      <td>0.0</td>\n",
       "      <td></td>\n",
       "      <td>2013</td>\n",
       "      <td></td>\n",
       "      <td></td>\n",
       "      <td>Animation</td>\n",
       "      <td>Adventure</td>\n",
       "      <td>Comedy</td>\n",
       "      <td>Justin Roiland</td>\n",
       "      <td>Chris Parnell</td>\n",
       "      <td>Spencer Grammer</td>\n",
       "      <td>Sarah Chalke</td>\n",
       "      <td>Unknown</td>\n",
       "      <td>None</td>\n",
       "      <td>None</td>\n",
       "      <td>None</td>\n",
       "      <td>super scientist, not-so-bright grandson</td>\n",
       "    </tr>\n",
       "    <tr>\n",
       "      <th>4</th>\n",
       "      <td>Army of Thieves</td>\n",
       "      <td>0.0</td>\n",
       "      <td>0</td>\n",
       "      <td>0.0</td>\n",
       "      <td>0.0</td>\n",
       "      <td>None</td>\n",
       "      <td>2021</td>\n",
       "      <td></td>\n",
       "      <td></td>\n",
       "      <td>Action</td>\n",
       "      <td>Crime</td>\n",
       "      <td>Horror</td>\n",
       "      <td>Matthias Schweighöfer</td>\n",
       "      <td>Nathalie Emmanuel</td>\n",
       "      <td>Ruby O. Fee</td>\n",
       "      <td>Stuart Martin</td>\n",
       "      <td>Matthias Schweighöfer</td>\n",
       "      <td>None</td>\n",
       "      <td>None</td>\n",
       "      <td>None</td>\n",
       "      <td>dead, german safecracker, ludwig dieter, top secret heist, early stages, zombie apocalypse</td>\n",
       "    </tr>\n",
       "    <tr>\n",
       "      <th>...</th>\n",
       "      <td>...</td>\n",
       "      <td>...</td>\n",
       "      <td>...</td>\n",
       "      <td>...</td>\n",
       "      <td>...</td>\n",
       "      <td>...</td>\n",
       "      <td>...</td>\n",
       "      <td>...</td>\n",
       "      <td>...</td>\n",
       "      <td>...</td>\n",
       "      <td>...</td>\n",
       "      <td>...</td>\n",
       "      <td>...</td>\n",
       "      <td>...</td>\n",
       "      <td>...</td>\n",
       "      <td>...</td>\n",
       "      <td>...</td>\n",
       "      <td>...</td>\n",
       "      <td>...</td>\n",
       "      <td>...</td>\n",
       "      <td>...</td>\n",
       "    </tr>\n",
       "    <tr>\n",
       "      <th>9993</th>\n",
       "      <td>Totenfrau</td>\n",
       "      <td>0.0</td>\n",
       "      <td>0</td>\n",
       "      <td>0.0</td>\n",
       "      <td>0.0</td>\n",
       "      <td></td>\n",
       "      <td>2022</td>\n",
       "      <td></td>\n",
       "      <td></td>\n",
       "      <td>Drama</td>\n",
       "      <td>Thriller</td>\n",
       "      <td>None</td>\n",
       "      <td>Felix Klare</td>\n",
       "      <td>Romina Küper</td>\n",
       "      <td>Anna Maria Mühe</td>\n",
       "      <td>Robert Palfrader</td>\n",
       "      <td>Nicolai Rohde</td>\n",
       "      <td>None</td>\n",
       "      <td>None</td>\n",
       "      <td>None</td>\n",
       "      <td>Unknown</td>\n",
       "    </tr>\n",
       "    <tr>\n",
       "      <th>9995</th>\n",
       "      <td>Arcane</td>\n",
       "      <td>0.0</td>\n",
       "      <td>0</td>\n",
       "      <td>0.0</td>\n",
       "      <td>0.0</td>\n",
       "      <td></td>\n",
       "      <td>2021</td>\n",
       "      <td></td>\n",
       "      <td></td>\n",
       "      <td>Animation</td>\n",
       "      <td>Action</td>\n",
       "      <td>Adventure</td>\n",
       "      <td>Unknown</td>\n",
       "      <td>None</td>\n",
       "      <td>None</td>\n",
       "      <td>None</td>\n",
       "      <td>Unknown</td>\n",
       "      <td>None</td>\n",
       "      <td>None</td>\n",
       "      <td>None</td>\n",
       "      <td>Unknown</td>\n",
       "    </tr>\n",
       "    <tr>\n",
       "      <th>9996</th>\n",
       "      <td>Heart of Invictus</td>\n",
       "      <td>0.0</td>\n",
       "      <td>0</td>\n",
       "      <td>0.0</td>\n",
       "      <td>0.0</td>\n",
       "      <td></td>\n",
       "      <td>2022</td>\n",
       "      <td></td>\n",
       "      <td></td>\n",
       "      <td>Documentary</td>\n",
       "      <td>Sport</td>\n",
       "      <td>None</td>\n",
       "      <td>Prince Harry</td>\n",
       "      <td>None</td>\n",
       "      <td>None</td>\n",
       "      <td>None</td>\n",
       "      <td>Orlando von Einsiedel</td>\n",
       "      <td>None</td>\n",
       "      <td>None</td>\n",
       "      <td>None</td>\n",
       "      <td>Unknown</td>\n",
       "    </tr>\n",
       "    <tr>\n",
       "      <th>9997</th>\n",
       "      <td>The Imperfects</td>\n",
       "      <td>0.0</td>\n",
       "      <td>0</td>\n",
       "      <td>0.0</td>\n",
       "      <td>0.0</td>\n",
       "      <td></td>\n",
       "      <td>2021</td>\n",
       "      <td></td>\n",
       "      <td></td>\n",
       "      <td>Adventure</td>\n",
       "      <td>Drama</td>\n",
       "      <td>Fantasy</td>\n",
       "      <td>Morgan Taylor Campbell</td>\n",
       "      <td>Iñaki Godoy</td>\n",
       "      <td>Rhianna Jagpal</td>\n",
       "      <td>Siddhartha Minhas</td>\n",
       "      <td>Jovanka Vuckovic</td>\n",
       "      <td>None</td>\n",
       "      <td>None</td>\n",
       "      <td>None</td>\n",
       "      <td>Unknown</td>\n",
       "    </tr>\n",
       "    <tr>\n",
       "      <th>9998</th>\n",
       "      <td>The Imperfects</td>\n",
       "      <td>0.0</td>\n",
       "      <td>0</td>\n",
       "      <td>0.0</td>\n",
       "      <td>0.0</td>\n",
       "      <td></td>\n",
       "      <td>2021</td>\n",
       "      <td></td>\n",
       "      <td></td>\n",
       "      <td>Adventure</td>\n",
       "      <td>Drama</td>\n",
       "      <td>Fantasy</td>\n",
       "      <td>Morgan Taylor Campbell</td>\n",
       "      <td>Jennifer Cheon Garcia</td>\n",
       "      <td>Iñaki Godoy</td>\n",
       "      <td>Rhianna Jagpal</td>\n",
       "      <td>Jovanka Vuckovic</td>\n",
       "      <td>None</td>\n",
       "      <td>None</td>\n",
       "      <td>None</td>\n",
       "      <td>Unknown</td>\n",
       "    </tr>\n",
       "  </tbody>\n",
       "</table>\n",
       "<p>9568 rows × 21 columns</p>\n",
       "</div>"
      ],
      "text/plain": [
       "                                   Movies  Rating   Votes  Runtime  \\\n",
       "0                           Blood Red Sky     6.1   21062    121.0   \n",
       "1     Masters of the Universe: Revelation     5.0   17870     25.0   \n",
       "2                        The Walking Dead     8.2  885805     44.0   \n",
       "3                          Rick and Morty     9.2  414849     23.0   \n",
       "4                         Army of Thieves     0.0       0      0.0   \n",
       "...                                   ...     ...     ...      ...   \n",
       "9993                            Totenfrau     0.0       0      0.0   \n",
       "9995                               Arcane     0.0       0      0.0   \n",
       "9996                    Heart of Invictus     0.0       0      0.0   \n",
       "9997                       The Imperfects     0.0       0      0.0   \n",
       "9998                       The Imperfects     0.0       0      0.0   \n",
       "\n",
       "      Gross (in million $) End_Year Start_Year Season Type       Genre1  \\\n",
       "0                      0.0     None       2021                   Action   \n",
       "1                      0.0                2021                Animation   \n",
       "2                      0.0     2022       2010                    Drama   \n",
       "3                      0.0                2013                Animation   \n",
       "4                      0.0     None       2021                   Action   \n",
       "...                    ...      ...        ...    ...  ...          ...   \n",
       "9993                   0.0                2022                    Drama   \n",
       "9995                   0.0                2021                Animation   \n",
       "9996                   0.0                2022              Documentary   \n",
       "9997                   0.0                2021                Adventure   \n",
       "9998                   0.0                2021                Adventure   \n",
       "\n",
       "                     Genre2                  Genre3                  Actor1  \\\n",
       "0                    Horror    Thriller                     Peri Baumeister   \n",
       "1                    Action   Adventure                          Chris Wood   \n",
       "2                    Horror    Thriller                      Andrew Lincoln   \n",
       "3                 Adventure      Comedy                      Justin Roiland   \n",
       "4                     Crime      Horror               Matthias Schweighöfer   \n",
       "...                     ...                     ...                     ...   \n",
       "9993   Thriller                                None             Felix Klare   \n",
       "9995                 Action   Adventure                             Unknown   \n",
       "9996      Sport                                None            Prince Harry   \n",
       "9997                  Drama     Fantasy              Morgan Taylor Campbell   \n",
       "9998                  Drama     Fantasy              Morgan Taylor Campbell   \n",
       "\n",
       "                      Actor2             Actor3              Actor4  \\\n",
       "0            Carl Anton Koch   Alexander Scheer          Kais Setti   \n",
       "1      Sarah Michelle Gellar        Lena Headey         Mark Hamill   \n",
       "2              Norman Reedus    Melissa McBride        Lauren Cohan   \n",
       "3              Chris Parnell    Spencer Grammer        Sarah Chalke   \n",
       "4          Nathalie Emmanuel        Ruby O. Fee       Stuart Martin   \n",
       "...                      ...                ...                 ...   \n",
       "9993            Romina Küper    Anna Maria Mühe    Robert Palfrader   \n",
       "9995                    None               None                None   \n",
       "9996                    None               None                None   \n",
       "9997             Iñaki Godoy     Rhianna Jagpal   Siddhartha Minhas   \n",
       "9998   Jennifer Cheon Garcia        Iñaki Godoy      Rhianna Jagpal   \n",
       "\n",
       "                  Director1 Director2 Director3 Director4  \\\n",
       "0           Peter Thorwarth      None      None      None   \n",
       "1                   Unknown      None      None      None   \n",
       "2                   Unknown      None      None      None   \n",
       "3                   Unknown      None      None      None   \n",
       "4     Matthias Schweighöfer      None      None      None   \n",
       "...                     ...       ...       ...       ...   \n",
       "9993          Nicolai Rohde      None      None      None   \n",
       "9995                Unknown      None      None      None   \n",
       "9996  Orlando von Einsiedel      None      None      None   \n",
       "9997       Jovanka Vuckovic      None      None      None   \n",
       "9998       Jovanka Vuckovic      None      None      None   \n",
       "\n",
       "                                                                                One-Line-Summary  \n",
       "0                                                         mysterious illness, terrorists attempt  \n",
       "1                                           eternia, final battle, he-man, skeletor, kevin smith  \n",
       "2                                                                                    rick grimes  \n",
       "3                                                        super scientist, not-so-bright grandson  \n",
       "4     dead, german safecracker, ludwig dieter, top secret heist, early stages, zombie apocalypse  \n",
       "...                                                                                          ...  \n",
       "9993                                                                                     Unknown  \n",
       "9995                                                                                     Unknown  \n",
       "9996                                                                                     Unknown  \n",
       "9997                                                                                     Unknown  \n",
       "9998                                                                                     Unknown  \n",
       "\n",
       "[9568 rows x 21 columns]"
      ]
     },
     "execution_count": 34,
     "metadata": {},
     "output_type": "execute_result"
    }
   ],
   "source": [
    "# Eliminate unwanted columns\n",
    "\n",
    "movies_df = movies_df.drop(columns=['Year', 'Genre', 'Actor', 'Stars', 'Director', 'DirectorN', 'One-Line', 'Mix'], axis=1)\n",
    "movies_df"
   ]
  },
  {
   "cell_type": "markdown",
   "id": "0b93d045-a332-45a2-a85c-c09e0b9cb7ed",
   "metadata": {},
   "source": [
    "# Check for NULL values"
   ]
  },
  {
   "cell_type": "code",
   "execution_count": 35,
   "id": "27070822-2d3f-498f-bc19-423f09c7b9fe",
   "metadata": {},
   "outputs": [
    {
     "name": "stdout",
     "output_type": "stream",
     "text": [
      "Movies                     0\n",
      "Rating                     0\n",
      "Votes                      0\n",
      "Runtime                    0\n",
      "Gross (in million $)       0\n",
      "End_Year                5286\n",
      "Start_Year                 0\n",
      "Season                     0\n",
      "Type                       0\n",
      "Genre1                    78\n",
      "Genre2                  2614\n",
      "Genre3                  4748\n",
      "Actor1                     0\n",
      "Actor2                  1203\n",
      "Actor3                  1443\n",
      "Actor4                  1619\n",
      "Director1                  0\n",
      "Director2               8662\n",
      "Director3               9410\n",
      "Director4               9505\n",
      "One-Line-Summary           0\n",
      "dtype: int64\n"
     ]
    }
   ],
   "source": [
    "# Check for NULL\n",
    "print(movies_df.isnull().sum())"
   ]
  },
  {
   "cell_type": "code",
   "execution_count": 36,
   "id": "a934f035-1604-4d51-b2b4-b04a5d23995d",
   "metadata": {},
   "outputs": [
    {
     "name": "stdout",
     "output_type": "stream",
     "text": [
      "Movies                   object\n",
      "Rating                  float64\n",
      "Votes                     int32\n",
      "Runtime                 float64\n",
      "Gross (in million $)    float64\n",
      "End_Year                 object\n",
      "Start_Year               object\n",
      "Season                   object\n",
      "Type                     object\n",
      "Genre1                   object\n",
      "Genre2                   object\n",
      "Genre3                   object\n",
      "Actor1                   object\n",
      "Actor2                   object\n",
      "Actor3                   object\n",
      "Actor4                   object\n",
      "Director1                object\n",
      "Director2                object\n",
      "Director3                object\n",
      "Director4                object\n",
      "One-Line-Summary         object\n",
      "dtype: object\n"
     ]
    }
   ],
   "source": [
    "print(movies_df.dtypes)"
   ]
  },
  {
   "cell_type": "markdown",
   "id": "d38e319c-db90-49d5-8f16-f16f31f7d98e",
   "metadata": {},
   "source": [
    "# Updated NULL values and datatypes"
   ]
  },
  {
   "cell_type": "code",
   "execution_count": 37,
   "id": "93da2512-a55a-4748-88f1-e65d8a4d76ad",
   "metadata": {},
   "outputs": [
    {
     "name": "stdout",
     "output_type": "stream",
     "text": [
      "Movies                     0\n",
      "Rating                     0\n",
      "Votes                      0\n",
      "Runtime                    0\n",
      "Gross (in million $)       0\n",
      "End_Year                5286\n",
      "Start_Year                 0\n",
      "Season                     0\n",
      "Type                       0\n",
      "Genre1                    78\n",
      "Genre2                  2614\n",
      "Genre3                  4748\n",
      "Actor1                     0\n",
      "Actor2                  1203\n",
      "Actor3                  1443\n",
      "Actor4                  1619\n",
      "Director1                  0\n",
      "Director2               8662\n",
      "Director3               9410\n",
      "Director4               9505\n",
      "One-Line-Summary           0\n",
      "dtype: int64\n"
     ]
    }
   ],
   "source": [
    "print(movies_df.isnull().sum())"
   ]
  },
  {
   "cell_type": "code",
   "execution_count": 38,
   "id": "3c7e7c28-c4ba-4c38-aad8-418716368330",
   "metadata": {},
   "outputs": [
    {
     "name": "stdout",
     "output_type": "stream",
     "text": [
      "Movies                   object\n",
      "Rating                  float64\n",
      "Votes                     int32\n",
      "Runtime                 float64\n",
      "Gross (in million $)    float64\n",
      "End_Year                 object\n",
      "Start_Year               object\n",
      "Season                   object\n",
      "Type                     object\n",
      "Genre1                   object\n",
      "Genre2                   object\n",
      "Genre3                   object\n",
      "Actor1                   object\n",
      "Actor2                   object\n",
      "Actor3                   object\n",
      "Actor4                   object\n",
      "Director1                object\n",
      "Director2                object\n",
      "Director3                object\n",
      "Director4                object\n",
      "One-Line-Summary         object\n",
      "dtype: object\n"
     ]
    }
   ],
   "source": [
    "print(movies_df.dtypes)"
   ]
  },
  {
   "cell_type": "markdown",
   "id": "5c7e3fef-587c-4e59-b1ba-cdb0ce7040f9",
   "metadata": {},
   "source": [
    "# Sort the dataset\n",
    "\n",
    "__This will sort the pandas dataframe with the values from 'Movies' column alphabatically and reset the index.__"
   ]
  },
  {
   "cell_type": "code",
   "execution_count": 39,
   "id": "f0f3d95c-545d-4b13-aeb9-41f12a7fcefa",
   "metadata": {},
   "outputs": [],
   "source": [
    "movies_df.sort_values(by=['Rating', 'Gross (in million $)'], ascending=False, inplace=True)\n",
    "movies_df = movies_df.reset_index(drop=True)"
   ]
  },
  {
   "cell_type": "markdown",
   "id": "dfb164e5-5d26-4331-9fd2-376a8d8a827b",
   "metadata": {},
   "source": [
    "# Write the dataframe as excel"
   ]
  },
  {
   "cell_type": "code",
   "execution_count": 40,
   "id": "0c0d2453-f528-4930-b55a-e47bfd006589",
   "metadata": {},
   "outputs": [],
   "source": [
    "movies_df.to_excel('output.xlsx', index=False)"
   ]
  },
  {
   "cell_type": "markdown",
   "id": "1d88f26e-4bf4-4946-a678-1e6800c743a8",
   "metadata": {},
   "source": [
    "# Final View of the Dataset"
   ]
  },
  {
   "cell_type": "code",
   "execution_count": 41,
   "id": "1d35667b-78c5-44b4-a36f-9bdb31c4df30",
   "metadata": {},
   "outputs": [
    {
     "data": {
      "text/html": [
       "<div>\n",
       "<style scoped>\n",
       "    .dataframe tbody tr th:only-of-type {\n",
       "        vertical-align: middle;\n",
       "    }\n",
       "\n",
       "    .dataframe tbody tr th {\n",
       "        vertical-align: top;\n",
       "    }\n",
       "\n",
       "    .dataframe thead th {\n",
       "        text-align: right;\n",
       "    }\n",
       "</style>\n",
       "<table border=\"1\" class=\"dataframe\">\n",
       "  <thead>\n",
       "    <tr style=\"text-align: right;\">\n",
       "      <th></th>\n",
       "      <th>Movies</th>\n",
       "      <th>Rating</th>\n",
       "      <th>Votes</th>\n",
       "      <th>Runtime</th>\n",
       "      <th>Gross (in million $)</th>\n",
       "      <th>End_Year</th>\n",
       "      <th>Start_Year</th>\n",
       "      <th>Season</th>\n",
       "      <th>Type</th>\n",
       "      <th>Genre1</th>\n",
       "      <th>Genre2</th>\n",
       "      <th>Genre3</th>\n",
       "      <th>Actor1</th>\n",
       "      <th>Actor2</th>\n",
       "      <th>Actor3</th>\n",
       "      <th>Actor4</th>\n",
       "      <th>Director1</th>\n",
       "      <th>Director2</th>\n",
       "      <th>Director3</th>\n",
       "      <th>Director4</th>\n",
       "      <th>One-Line-Summary</th>\n",
       "    </tr>\n",
       "  </thead>\n",
       "  <tbody>\n",
       "    <tr>\n",
       "      <th>0</th>\n",
       "      <td>BoJack Horseman</td>\n",
       "      <td>9.9</td>\n",
       "      <td>12369</td>\n",
       "      <td>26.0</td>\n",
       "      <td>0.0</td>\n",
       "      <td>2020</td>\n",
       "      <td>2014</td>\n",
       "      <td></td>\n",
       "      <td></td>\n",
       "      <td>Animation</td>\n",
       "      <td>Comedy</td>\n",
       "      <td>Drama</td>\n",
       "      <td>Will Arnett</td>\n",
       "      <td>Amy Sedaris</td>\n",
       "      <td>Alison Brie</td>\n",
       "      <td>Paul F. Tompkins</td>\n",
       "      <td>Amy Winfrey</td>\n",
       "      <td>None</td>\n",
       "      <td>None</td>\n",
       "      <td>None</td>\n",
       "      <td>bojack</td>\n",
       "    </tr>\n",
       "    <tr>\n",
       "      <th>1</th>\n",
       "      <td>Avatar: The Last Airbender</td>\n",
       "      <td>9.9</td>\n",
       "      <td>8813</td>\n",
       "      <td>92.0</td>\n",
       "      <td>0.0</td>\n",
       "      <td>2008</td>\n",
       "      <td>2005</td>\n",
       "      <td></td>\n",
       "      <td></td>\n",
       "      <td>Animation</td>\n",
       "      <td>Action</td>\n",
       "      <td>Adventure</td>\n",
       "      <td>Zach Tyler</td>\n",
       "      <td>Mae Whitman</td>\n",
       "      <td>Jack De Sena</td>\n",
       "      <td>Michaela Jill Murphy</td>\n",
       "      <td>Joaquim Dos Santos</td>\n",
       "      <td>None</td>\n",
       "      <td>None</td>\n",
       "      <td>None</td>\n",
       "      <td>aang, 's moment, truth arrives, ozai, phoenix king, will, human life</td>\n",
       "    </tr>\n",
       "    <tr>\n",
       "      <th>2</th>\n",
       "      <td>Avatar: The Last Airbender</td>\n",
       "      <td>9.8</td>\n",
       "      <td>5283</td>\n",
       "      <td>92.0</td>\n",
       "      <td>0.0</td>\n",
       "      <td>2008</td>\n",
       "      <td>2005</td>\n",
       "      <td></td>\n",
       "      <td></td>\n",
       "      <td>Animation</td>\n",
       "      <td>Action</td>\n",
       "      <td>Adventure</td>\n",
       "      <td>Zach Tyler</td>\n",
       "      <td>Mae Whitman</td>\n",
       "      <td>Jack De Sena</td>\n",
       "      <td>Michaela Jill Murphy</td>\n",
       "      <td>Joaquim Dos Santos</td>\n",
       "      <td>None</td>\n",
       "      <td>None</td>\n",
       "      <td>None</td>\n",
       "      <td>zuko, katara, fire lord, elsewhere, aang, ozai, comet arrives</td>\n",
       "    </tr>\n",
       "    <tr>\n",
       "      <th>3</th>\n",
       "      <td>Dexter</td>\n",
       "      <td>9.8</td>\n",
       "      <td>11638</td>\n",
       "      <td>51.0</td>\n",
       "      <td>0.0</td>\n",
       "      <td>2013</td>\n",
       "      <td>2006</td>\n",
       "      <td></td>\n",
       "      <td></td>\n",
       "      <td>Crime</td>\n",
       "      <td>Drama</td>\n",
       "      <td>Mystery</td>\n",
       "      <td>Michael C. Hall</td>\n",
       "      <td>Julie Benz</td>\n",
       "      <td>Jennifer Carpenter</td>\n",
       "      <td>Desmond Harrington</td>\n",
       "      <td>Steve Shill</td>\n",
       "      <td>None</td>\n",
       "      <td>None</td>\n",
       "      <td>None</td>\n",
       "      <td>dexter, arthur, collision course, debra, long-hidden truth, rita, dexter, batista, laguerta, ethics breach, season finale</td>\n",
       "    </tr>\n",
       "    <tr>\n",
       "      <th>4</th>\n",
       "      <td>Avatar: The Last Airbender</td>\n",
       "      <td>9.7</td>\n",
       "      <td>2770</td>\n",
       "      <td>24.0</td>\n",
       "      <td>0.0</td>\n",
       "      <td>2008</td>\n",
       "      <td>2005</td>\n",
       "      <td></td>\n",
       "      <td></td>\n",
       "      <td>Animation</td>\n",
       "      <td>Action</td>\n",
       "      <td>Adventure</td>\n",
       "      <td>Zach Tyler</td>\n",
       "      <td>Mae Whitman</td>\n",
       "      <td>Jack De Sena</td>\n",
       "      <td>Dante Basco</td>\n",
       "      <td>Dave Filoni</td>\n",
       "      <td>None</td>\n",
       "      <td>None</td>\n",
       "      <td>None</td>\n",
       "      <td>nation, northern water, tribe, sokka, katara, yue, aang</td>\n",
       "    </tr>\n",
       "    <tr>\n",
       "      <th>...</th>\n",
       "      <td>...</td>\n",
       "      <td>...</td>\n",
       "      <td>...</td>\n",
       "      <td>...</td>\n",
       "      <td>...</td>\n",
       "      <td>...</td>\n",
       "      <td>...</td>\n",
       "      <td>...</td>\n",
       "      <td>...</td>\n",
       "      <td>...</td>\n",
       "      <td>...</td>\n",
       "      <td>...</td>\n",
       "      <td>...</td>\n",
       "      <td>...</td>\n",
       "      <td>...</td>\n",
       "      <td>...</td>\n",
       "      <td>...</td>\n",
       "      <td>...</td>\n",
       "      <td>...</td>\n",
       "      <td>...</td>\n",
       "      <td>...</td>\n",
       "    </tr>\n",
       "    <tr>\n",
       "      <th>9563</th>\n",
       "      <td>Totenfrau</td>\n",
       "      <td>0.0</td>\n",
       "      <td>0</td>\n",
       "      <td>0.0</td>\n",
       "      <td>0.0</td>\n",
       "      <td></td>\n",
       "      <td>2022</td>\n",
       "      <td></td>\n",
       "      <td></td>\n",
       "      <td>Drama</td>\n",
       "      <td>Thriller</td>\n",
       "      <td>None</td>\n",
       "      <td>Felix Klare</td>\n",
       "      <td>Romina Küper</td>\n",
       "      <td>Anna Maria Mühe</td>\n",
       "      <td>Robert Palfrader</td>\n",
       "      <td>Nicolai Rohde</td>\n",
       "      <td>None</td>\n",
       "      <td>None</td>\n",
       "      <td>None</td>\n",
       "      <td>Unknown</td>\n",
       "    </tr>\n",
       "    <tr>\n",
       "      <th>9564</th>\n",
       "      <td>Arcane</td>\n",
       "      <td>0.0</td>\n",
       "      <td>0</td>\n",
       "      <td>0.0</td>\n",
       "      <td>0.0</td>\n",
       "      <td></td>\n",
       "      <td>2021</td>\n",
       "      <td></td>\n",
       "      <td></td>\n",
       "      <td>Animation</td>\n",
       "      <td>Action</td>\n",
       "      <td>Adventure</td>\n",
       "      <td>Unknown</td>\n",
       "      <td>None</td>\n",
       "      <td>None</td>\n",
       "      <td>None</td>\n",
       "      <td>Unknown</td>\n",
       "      <td>None</td>\n",
       "      <td>None</td>\n",
       "      <td>None</td>\n",
       "      <td>Unknown</td>\n",
       "    </tr>\n",
       "    <tr>\n",
       "      <th>9565</th>\n",
       "      <td>Heart of Invictus</td>\n",
       "      <td>0.0</td>\n",
       "      <td>0</td>\n",
       "      <td>0.0</td>\n",
       "      <td>0.0</td>\n",
       "      <td></td>\n",
       "      <td>2022</td>\n",
       "      <td></td>\n",
       "      <td></td>\n",
       "      <td>Documentary</td>\n",
       "      <td>Sport</td>\n",
       "      <td>None</td>\n",
       "      <td>Prince Harry</td>\n",
       "      <td>None</td>\n",
       "      <td>None</td>\n",
       "      <td>None</td>\n",
       "      <td>Orlando von Einsiedel</td>\n",
       "      <td>None</td>\n",
       "      <td>None</td>\n",
       "      <td>None</td>\n",
       "      <td>Unknown</td>\n",
       "    </tr>\n",
       "    <tr>\n",
       "      <th>9566</th>\n",
       "      <td>The Imperfects</td>\n",
       "      <td>0.0</td>\n",
       "      <td>0</td>\n",
       "      <td>0.0</td>\n",
       "      <td>0.0</td>\n",
       "      <td></td>\n",
       "      <td>2021</td>\n",
       "      <td></td>\n",
       "      <td></td>\n",
       "      <td>Adventure</td>\n",
       "      <td>Drama</td>\n",
       "      <td>Fantasy</td>\n",
       "      <td>Morgan Taylor Campbell</td>\n",
       "      <td>Iñaki Godoy</td>\n",
       "      <td>Rhianna Jagpal</td>\n",
       "      <td>Siddhartha Minhas</td>\n",
       "      <td>Jovanka Vuckovic</td>\n",
       "      <td>None</td>\n",
       "      <td>None</td>\n",
       "      <td>None</td>\n",
       "      <td>Unknown</td>\n",
       "    </tr>\n",
       "    <tr>\n",
       "      <th>9567</th>\n",
       "      <td>The Imperfects</td>\n",
       "      <td>0.0</td>\n",
       "      <td>0</td>\n",
       "      <td>0.0</td>\n",
       "      <td>0.0</td>\n",
       "      <td></td>\n",
       "      <td>2021</td>\n",
       "      <td></td>\n",
       "      <td></td>\n",
       "      <td>Adventure</td>\n",
       "      <td>Drama</td>\n",
       "      <td>Fantasy</td>\n",
       "      <td>Morgan Taylor Campbell</td>\n",
       "      <td>Jennifer Cheon Garcia</td>\n",
       "      <td>Iñaki Godoy</td>\n",
       "      <td>Rhianna Jagpal</td>\n",
       "      <td>Jovanka Vuckovic</td>\n",
       "      <td>None</td>\n",
       "      <td>None</td>\n",
       "      <td>None</td>\n",
       "      <td>Unknown</td>\n",
       "    </tr>\n",
       "  </tbody>\n",
       "</table>\n",
       "<p>9568 rows × 21 columns</p>\n",
       "</div>"
      ],
      "text/plain": [
       "                          Movies  Rating  Votes  Runtime  \\\n",
       "0                BoJack Horseman     9.9  12369     26.0   \n",
       "1     Avatar: The Last Airbender     9.9   8813     92.0   \n",
       "2     Avatar: The Last Airbender     9.8   5283     92.0   \n",
       "3                         Dexter     9.8  11638     51.0   \n",
       "4     Avatar: The Last Airbender     9.7   2770     24.0   \n",
       "...                          ...     ...    ...      ...   \n",
       "9563                   Totenfrau     0.0      0      0.0   \n",
       "9564                      Arcane     0.0      0      0.0   \n",
       "9565           Heart of Invictus     0.0      0      0.0   \n",
       "9566              The Imperfects     0.0      0      0.0   \n",
       "9567              The Imperfects     0.0      0      0.0   \n",
       "\n",
       "      Gross (in million $) End_Year Start_Year Season Type       Genre1  \\\n",
       "0                      0.0     2020       2014                Animation   \n",
       "1                      0.0     2008       2005                Animation   \n",
       "2                      0.0     2008       2005                Animation   \n",
       "3                      0.0     2013       2006                    Crime   \n",
       "4                      0.0     2008       2005                Animation   \n",
       "...                    ...      ...        ...    ...  ...          ...   \n",
       "9563                   0.0                2022                    Drama   \n",
       "9564                   0.0                2021                Animation   \n",
       "9565                   0.0                2022              Documentary   \n",
       "9566                   0.0                2021                Adventure   \n",
       "9567                   0.0                2021                Adventure   \n",
       "\n",
       "                     Genre2                  Genre3                  Actor1  \\\n",
       "0                    Comedy       Drama                         Will Arnett   \n",
       "1                    Action   Adventure                          Zach Tyler   \n",
       "2                    Action   Adventure                          Zach Tyler   \n",
       "3                     Drama     Mystery                     Michael C. Hall   \n",
       "4                    Action   Adventure                          Zach Tyler   \n",
       "...                     ...                     ...                     ...   \n",
       "9563   Thriller                                None             Felix Klare   \n",
       "9564                 Action   Adventure                             Unknown   \n",
       "9565      Sport                                None            Prince Harry   \n",
       "9566                  Drama     Fantasy              Morgan Taylor Campbell   \n",
       "9567                  Drama     Fantasy              Morgan Taylor Campbell   \n",
       "\n",
       "                      Actor2               Actor3                 Actor4  \\\n",
       "0                Amy Sedaris          Alison Brie       Paul F. Tompkins   \n",
       "1                Mae Whitman         Jack De Sena   Michaela Jill Murphy   \n",
       "2                Mae Whitman         Jack De Sena   Michaela Jill Murphy   \n",
       "3                 Julie Benz   Jennifer Carpenter     Desmond Harrington   \n",
       "4                Mae Whitman         Jack De Sena            Dante Basco   \n",
       "...                      ...                  ...                    ...   \n",
       "9563            Romina Küper      Anna Maria Mühe       Robert Palfrader   \n",
       "9564                    None                 None                   None   \n",
       "9565                    None                 None                   None   \n",
       "9566             Iñaki Godoy       Rhianna Jagpal      Siddhartha Minhas   \n",
       "9567   Jennifer Cheon Garcia          Iñaki Godoy         Rhianna Jagpal   \n",
       "\n",
       "                  Director1 Director2 Director3 Director4  \\\n",
       "0               Amy Winfrey      None      None      None   \n",
       "1        Joaquim Dos Santos      None      None      None   \n",
       "2        Joaquim Dos Santos      None      None      None   \n",
       "3               Steve Shill      None      None      None   \n",
       "4               Dave Filoni      None      None      None   \n",
       "...                     ...       ...       ...       ...   \n",
       "9563          Nicolai Rohde      None      None      None   \n",
       "9564                Unknown      None      None      None   \n",
       "9565  Orlando von Einsiedel      None      None      None   \n",
       "9566       Jovanka Vuckovic      None      None      None   \n",
       "9567       Jovanka Vuckovic      None      None      None   \n",
       "\n",
       "                                                                                                               One-Line-Summary  \n",
       "0                                                                                                                        bojack  \n",
       "1                                                          aang, 's moment, truth arrives, ozai, phoenix king, will, human life  \n",
       "2                                                                 zuko, katara, fire lord, elsewhere, aang, ozai, comet arrives  \n",
       "3     dexter, arthur, collision course, debra, long-hidden truth, rita, dexter, batista, laguerta, ethics breach, season finale  \n",
       "4                                                                       nation, northern water, tribe, sokka, katara, yue, aang  \n",
       "...                                                                                                                         ...  \n",
       "9563                                                                                                                    Unknown  \n",
       "9564                                                                                                                    Unknown  \n",
       "9565                                                                                                                    Unknown  \n",
       "9566                                                                                                                    Unknown  \n",
       "9567                                                                                                                    Unknown  \n",
       "\n",
       "[9568 rows x 21 columns]"
      ]
     },
     "execution_count": 41,
     "metadata": {},
     "output_type": "execute_result"
    }
   ],
   "source": [
    "#movies_df[movies_df['Movies'] == 'The Kominsky Method']['One-Line-Summary']\n",
    "movies_df"
   ]
  },
  {
   "cell_type": "code",
   "execution_count": null,
   "id": "402b2c97-be0a-4c48-ac8a-41c430525f4f",
   "metadata": {},
   "outputs": [],
   "source": []
  }
 ],
 "metadata": {
  "kernelspec": {
   "display_name": "Python 3 (ipykernel)",
   "language": "python",
   "name": "python3"
  },
  "language_info": {
   "codemirror_mode": {
    "name": "ipython",
    "version": 3
   },
   "file_extension": ".py",
   "mimetype": "text/x-python",
   "name": "python",
   "nbconvert_exporter": "python",
   "pygments_lexer": "ipython3",
   "version": "3.10.9"
  }
 },
 "nbformat": 4,
 "nbformat_minor": 5
}
